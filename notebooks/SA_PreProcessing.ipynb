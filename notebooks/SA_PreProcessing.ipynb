{
 "cells": [
  {
   "cell_type": "markdown",
   "metadata": {},
   "source": [
    "# Data Pre-Processing at SA Level"
   ]
  },
  {
   "cell_type": "code",
   "execution_count": 1,
   "metadata": {},
   "outputs": [],
   "source": [
    "# Enable Intellisense\n",
    "%config IPCompleter.greedy=True\n",
    "\n",
    "import pandas as pd\n",
    "import numpy as np\n",
    "import io\n",
    "import requests \n",
    "import datetime\n",
    "\n",
    "# Annoying warning\n",
    "pd.options.mode.chained_assignment = None  # default='warn'"
   ]
  },
  {
   "cell_type": "code",
   "execution_count": 2,
   "metadata": {},
   "outputs": [],
   "source": [
    "# get dataframe from specified url using kwargs specified for read_csv\n",
    "def df_from_url(df_url, pd_kwargs={}, use_base_url=True):\n",
    "    base_url = \"https://raw.githubusercontent.com/dsfsi/covid19za/master/data/\"\n",
    "    if use_base_url:\n",
    "        df_url = base_url + df_url\n",
    "    df_req = requests.get(df_url).content\n",
    "    df = pd.read_csv(io.StringIO(df_req.decode('utf-8')), **pd_kwargs)\n",
    "    return df\n",
    "\n",
    "# Generator method to get all dates in specified interval\n",
    "def datetime_range(start_datetime, end_datetime):\n",
    "    curr_date = start_datetime\n",
    "    yield curr_date\n",
    "    while curr_date < end_datetime:\n",
    "        curr_date += timedelta(days=1)\n",
    "        yield curr_date"
   ]
  },
  {
   "cell_type": "code",
   "execution_count": 3,
   "metadata": {},
   "outputs": [],
   "source": [
    "    def get_cum_daily(data_url, cum_col='total', index_col='date'):  # kwargs={}):\n",
    "        cols = ['date', 'total']\n",
    "        pd_kwargs = {\"usecols\": [cum_col, index_col], \"index_col\": [index_col]}\n",
    "\n",
    "        data = df_from_url(data_url, pd_kwargs)\n",
    "        data.reset_index(inplace=True)\n",
    "        data['date'] = pd.to_datetime(data['date'], format='%d-%m-%Y')\n",
    "        data.set_index('date', inplace=True)\n",
    "        data.rename({cum_col: \"cum_no\"}, axis=1, inplace=True)\n",
    "        data.ffill(inplace=True)\n",
    "\n",
    "        data['daily_no'] = data['cum_no']\n",
    "        data['daily_no'][1:] = data['cum_no'].diff()[1:]\n",
    "        # Cast columns to integer\n",
    "        data = data.astype('int32')\n",
    "        return data"
   ]
  },
  {
   "cell_type": "code",
   "execution_count": 4,
   "metadata": {},
   "outputs": [
    {
     "data": {
      "text/html": [
       "<div>\n",
       "<style scoped>\n",
       "    .dataframe tbody tr th:only-of-type {\n",
       "        vertical-align: middle;\n",
       "    }\n",
       "\n",
       "    .dataframe tbody tr th {\n",
       "        vertical-align: top;\n",
       "    }\n",
       "\n",
       "    .dataframe thead th {\n",
       "        text-align: right;\n",
       "    }\n",
       "</style>\n",
       "<table border=\"1\" class=\"dataframe\">\n",
       "  <thead>\n",
       "    <tr style=\"text-align: right;\">\n",
       "      <th></th>\n",
       "      <th>cum_no</th>\n",
       "      <th>daily_no</th>\n",
       "    </tr>\n",
       "    <tr>\n",
       "      <th>date</th>\n",
       "      <th></th>\n",
       "      <th></th>\n",
       "    </tr>\n",
       "  </thead>\n",
       "  <tbody>\n",
       "    <tr>\n",
       "      <th>2020-03-05</th>\n",
       "      <td>1</td>\n",
       "      <td>1</td>\n",
       "    </tr>\n",
       "    <tr>\n",
       "      <th>2020-03-07</th>\n",
       "      <td>2</td>\n",
       "      <td>1</td>\n",
       "    </tr>\n",
       "    <tr>\n",
       "      <th>2020-03-08</th>\n",
       "      <td>3</td>\n",
       "      <td>1</td>\n",
       "    </tr>\n",
       "    <tr>\n",
       "      <th>2020-03-09</th>\n",
       "      <td>7</td>\n",
       "      <td>4</td>\n",
       "    </tr>\n",
       "    <tr>\n",
       "      <th>2020-03-11</th>\n",
       "      <td>13</td>\n",
       "      <td>6</td>\n",
       "    </tr>\n",
       "    <tr>\n",
       "      <th>...</th>\n",
       "      <td>...</td>\n",
       "      <td>...</td>\n",
       "    </tr>\n",
       "    <tr>\n",
       "      <th>2020-12-12</th>\n",
       "      <td>852965</td>\n",
       "      <td>7882</td>\n",
       "    </tr>\n",
       "    <tr>\n",
       "      <th>2020-12-13</th>\n",
       "      <td>860964</td>\n",
       "      <td>7999</td>\n",
       "    </tr>\n",
       "    <tr>\n",
       "      <th>2020-12-14</th>\n",
       "      <td>866127</td>\n",
       "      <td>5163</td>\n",
       "    </tr>\n",
       "    <tr>\n",
       "      <th>2020-12-15</th>\n",
       "      <td>873679</td>\n",
       "      <td>7552</td>\n",
       "    </tr>\n",
       "    <tr>\n",
       "      <th>2020-12-16</th>\n",
       "      <td>883687</td>\n",
       "      <td>10008</td>\n",
       "    </tr>\n",
       "  </tbody>\n",
       "</table>\n",
       "<p>285 rows × 2 columns</p>\n",
       "</div>"
      ],
      "text/plain": [
       "            cum_no  daily_no\n",
       "date                        \n",
       "2020-03-05       1         1\n",
       "2020-03-07       2         1\n",
       "2020-03-08       3         1\n",
       "2020-03-09       7         4\n",
       "2020-03-11      13         6\n",
       "...            ...       ...\n",
       "2020-12-12  852965      7882\n",
       "2020-12-13  860964      7999\n",
       "2020-12-14  866127      5163\n",
       "2020-12-15  873679      7552\n",
       "2020-12-16  883687     10008\n",
       "\n",
       "[285 rows x 2 columns]"
      ]
     },
     "execution_count": 4,
     "metadata": {},
     "output_type": "execute_result"
    }
   ],
   "source": [
    "confirmed_cases_url = \"covid19za_provincial_cumulative_timeline_confirmed.csv\"\n",
    "confirmed_data = get_cum_daily(confirmed_cases_url)\n",
    "confirmed_data"
   ]
  },
  {
   "cell_type": "code",
   "execution_count": 7,
   "metadata": {},
   "outputs": [
    {
     "data": {
      "text/plain": [
       "883687"
      ]
     },
     "execution_count": 7,
     "metadata": {},
     "output_type": "execute_result"
    }
   ],
   "source": [
    "confirmed_data.iloc[-1]['cum_no'].astype(int)"
   ]
  },
  {
   "cell_type": "code",
   "execution_count": 5,
   "metadata": {},
   "outputs": [
    {
     "data": {
      "text/plain": [
       "Timestamp('2020-12-16 00:00:00')"
      ]
     },
     "execution_count": 5,
     "metadata": {},
     "output_type": "execute_result"
    }
   ],
   "source": [
    "confirmed_data.index[-1]"
   ]
  },
  {
   "cell_type": "code",
   "execution_count": null,
   "metadata": {},
   "outputs": [],
   "source": []
  }
 ],
 "metadata": {
  "kernelspec": {
   "display_name": "Python 3",
   "language": "python",
   "name": "python3"
  },
  "language_info": {
   "codemirror_mode": {
    "name": "ipython",
    "version": 3
   },
   "file_extension": ".py",
   "mimetype": "text/x-python",
   "name": "python",
   "nbconvert_exporter": "python",
   "pygments_lexer": "ipython3",
   "version": "3.7.6"
  }
 },
 "nbformat": 4,
 "nbformat_minor": 4
}
